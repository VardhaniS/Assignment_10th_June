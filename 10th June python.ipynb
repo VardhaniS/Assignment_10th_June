{
 "cells": [
  {
   "cell_type": "markdown",
   "id": "4afb3cd0",
   "metadata": {},
   "source": [
    "1. In Python, what is the difference between a built-in function and a user-defined function? Provide an example of each.\n"
   ]
  },
  {
   "cell_type": "raw",
   "id": "1001f117",
   "metadata": {},
   "source": [
    "Built in function are like keywords or the function already exisiting in python.\n",
    "User defined function are the function that are created by the user to make the function of code easy.\n",
    "\n",
    "Example of built in function are:\n",
    "    len, max, min\n"
   ]
  },
  {
   "cell_type": "code",
   "execution_count": 1,
   "id": "3d35cd72",
   "metadata": {},
   "outputs": [
    {
     "name": "stdout",
     "output_type": "stream",
     "text": [
      "sum of two numbers are 11\n"
     ]
    }
   ],
   "source": [
    "# Example of user_defined function are\n",
    "\n",
    "def add_num(a,b):\n",
    "    print(\"sum of two numbers are\",(a+b))\n",
    "add_num(3,8)"
   ]
  },
  {
   "cell_type": "markdown",
   "id": "55ff9864",
   "metadata": {},
   "source": [
    "2. How can you pass arguments to a function in Python? Explain the difference between positional\n",
    "arguments and keyword arguments."
   ]
  },
  {
   "cell_type": "raw",
   "id": "37f8aa0e",
   "metadata": {},
   "source": [
    "We can pass the arguments in the function by declaring the arguments in the function\n",
    "\n",
    "def funct_name(a,b):\n",
    "    statements\n",
    "funct_name(a,b)\n",
    "\n",
    "Here a and b are the arguments passed to the function.\n",
    "\n",
    "In Positional arguments the position of the paramters passed cannot be changed.\n",
    "where as in keyword arguments the position of the paramnets can be changed."
   ]
  },
  {
   "cell_type": "markdown",
   "id": "43fa488f",
   "metadata": {},
   "source": [
    "3. What is the purpose of the return statement in a function? Can a function have multiple return\n",
    "statements? Explain with an example."
   ]
  },
  {
   "cell_type": "raw",
   "id": "527d0b1d",
   "metadata": {},
   "source": [
    "Return function is used to return a value from a function .\n",
    "The return value can be used outside the function in many times.\n",
    "\n",
    "Yes mutliple return statements can be used in a function .\n"
   ]
  },
  {
   "cell_type": "code",
   "execution_count": 3,
   "id": "a263fc13",
   "metadata": {},
   "outputs": [
    {
     "name": "stdout",
     "output_type": "stream",
     "text": [
      "15\n",
      "5\n",
      "add 20\n",
      "sub 10\n"
     ]
    }
   ],
   "source": [
    "#calculator program using return \n",
    "def calculator(n1,n2):\n",
    "    add=n1+n2\n",
    "    diff=n1-n2\n",
    "    mul=n1*n2\n",
    "    div=n1/n2\n",
    "    return {\n",
    "        'sum': add,\n",
    "        'diff': diff,\n",
    "        'mul': mul,\n",
    "        'div':div\n",
    "    }\n",
    "n1=int(input())\n",
    "n2=int(input())\n",
    "result=calculator(n1,n2)\n",
    "print('add',result['sum'])\n",
    "print('sub',result['diff'])\n",
    "\n",
    "    \n",
    "    "
   ]
  },
  {
   "cell_type": "markdown",
   "id": "78d67089",
   "metadata": {},
   "source": [
    "4. What are lambda functions in Python? How are they different from regular functions? Provide an\n",
    "example where a lambda function can be useful.\n"
   ]
  },
  {
   "cell_type": "raw",
   "id": "76955623",
   "metadata": {},
   "source": [
    "Lambda function are similar to the regular function. But don't follow the tradiational steps of the regualr functions.\n",
    "In lambda function a single line of code is given . It can be used for simple functions not for the complex functions"
   ]
  },
  {
   "cell_type": "code",
   "execution_count": 4,
   "id": "af5470c1",
   "metadata": {},
   "outputs": [
    {
     "name": "stdout",
     "output_type": "stream",
     "text": [
      "8\n"
     ]
    }
   ],
   "source": [
    "#for this sqrt function multiples lines of code is not required it can be simplied to single function\n",
    "sqrt=lambda x:x*2 \n",
    "print(sqrt(4))"
   ]
  },
  {
   "cell_type": "markdown",
   "id": "445d28f6",
   "metadata": {},
   "source": [
    "5. How does the concept of \"scope\" apply to functions in Python? Explain the difference between local\n",
    "scope and global scope.\n"
   ]
  },
  {
   "cell_type": "raw",
   "id": "81a1e66a",
   "metadata": {},
   "source": [
    "Global scope: The names that you define in this scope are available to all your code. \n",
    "    Local scope in: The names that you define in this scope are only available or visible to the code within the scope or function."
   ]
  },
  {
   "cell_type": "markdown",
   "id": "d29a4d73",
   "metadata": {},
   "source": [
    "6. How can you use the \"return\" statement in a Python function to return multiple values?"
   ]
  },
  {
   "cell_type": "raw",
   "id": "bd1a1664",
   "metadata": {},
   "source": [
    "We use the return statement to return the multiple values like returnning multiple values using dictionary."
   ]
  },
  {
   "cell_type": "markdown",
   "id": "50185bc6",
   "metadata": {},
   "source": [
    "7. What is the difference between the \"pass by value\" and \"pass by reference\" concepts when it\n",
    "comes to function arguments in Python?"
   ]
  },
  {
   "cell_type": "raw",
   "id": "3c83174a",
   "metadata": {},
   "source": [
    "Pass by value - means passing the copy of the variable\n",
    "Pass by reference - means passing the existing variable"
   ]
  },
  {
   "cell_type": "markdown",
   "id": "c346f98b",
   "metadata": {},
   "source": [
    "8. Create a function that can intake integer or decimal value and do following operations:\n",
    "a. Logarithmic function (log x)\n",
    "b. Exponential function (exp(x))\n",
    "c. Power function with base 2 (2x)\n",
    "d. Square root"
   ]
  },
  {
   "cell_type": "code",
   "execution_count": 7,
   "id": "328554d8",
   "metadata": {},
   "outputs": [
    {
     "name": "stdout",
     "output_type": "stream",
     "text": [
      "0.6931471805599453\n"
     ]
    }
   ],
   "source": [
    "#a. Logarithmic function (log x)\n",
    "import math\n",
    "x=lambda a:math.log(a)\n",
    "print(x(2))"
   ]
  },
  {
   "cell_type": "code",
   "execution_count": 8,
   "id": "8353db26",
   "metadata": {},
   "outputs": [
    {
     "name": "stdout",
     "output_type": "stream",
     "text": [
      "7.38905609893065\n"
     ]
    }
   ],
   "source": [
    "#b. Exponential function (exp(x))\n",
    "import math\n",
    "x=lambda a:math.exp(a)\n",
    "print(x(2))"
   ]
  },
  {
   "cell_type": "code",
   "execution_count": 9,
   "id": "e6c5881f",
   "metadata": {},
   "outputs": [
    {
     "name": "stdout",
     "output_type": "stream",
     "text": [
      "16\n"
     ]
    }
   ],
   "source": [
    "#c. Power function with base 2 (2x)\n",
    "x=lambda a:pow(2,a)\n",
    "print(x(4))"
   ]
  },
  {
   "cell_type": "code",
   "execution_count": 10,
   "id": "064b601a",
   "metadata": {},
   "outputs": [
    {
     "name": "stdout",
     "output_type": "stream",
     "text": [
      "2.0\n"
     ]
    }
   ],
   "source": [
    "#d. Square root\n",
    "x=lambda a:math.sqrt(a)\n",
    "print(x(4))"
   ]
  },
  {
   "cell_type": "markdown",
   "id": "52798ce5",
   "metadata": {},
   "source": [
    "9. Create a function that takes a full name as an argument and returns first name and last name."
   ]
  },
  {
   "cell_type": "code",
   "execution_count": 13,
   "id": "a49aea75",
   "metadata": {},
   "outputs": [
    {
     "name": "stdout",
     "output_type": "stream",
     "text": [
      "First name: Vardhani\n",
      "Second name: Seelamanthula\n"
     ]
    }
   ],
   "source": [
    "def fullname(name):\n",
    "    a= name.split(\" \")\n",
    "    return {'first_name':a[0],\n",
    "           'second_name':a[1]}\n",
    "a=fullname('Vardhani Seelamanthula')\n",
    "print('First name:',a['first_name'])\n",
    "print('Second name:',a['second_name'])"
   ]
  },
  {
   "cell_type": "code",
   "execution_count": null,
   "id": "c2470912",
   "metadata": {},
   "outputs": [],
   "source": []
  }
 ],
 "metadata": {
  "kernelspec": {
   "display_name": "Python 3 (ipykernel)",
   "language": "python",
   "name": "python3"
  },
  "language_info": {
   "codemirror_mode": {
    "name": "ipython",
    "version": 3
   },
   "file_extension": ".py",
   "mimetype": "text/x-python",
   "name": "python",
   "nbconvert_exporter": "python",
   "pygments_lexer": "ipython3",
   "version": "3.9.7"
  }
 },
 "nbformat": 4,
 "nbformat_minor": 5
}
